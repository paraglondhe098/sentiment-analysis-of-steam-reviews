{
 "cells": [
  {
   "cell_type": "code",
   "execution_count": 1,
   "id": "9de477f9",
   "metadata": {
    "ExecuteTime": {
     "end_time": "2023-08-05T14:57:28.771556800Z",
     "start_time": "2023-08-05T14:57:28.472919300Z"
    }
   },
   "outputs": [],
   "source": [
    "import pandas as pd\n",
    "import numpy as np\n",
    "import matplotlib.pyplot as plt\n",
    "import seaborn as sns\n",
    "sns.set()\n",
    "from sklearn.model_selection import train_test_split"
   ]
  },
  {
   "cell_type": "markdown",
   "id": "ed953274",
   "metadata": {},
   "source": [
    "### Selecting Data"
   ]
  },
  {
   "cell_type": "code",
   "execution_count": 2,
   "id": "4b40a9f4",
   "metadata": {
    "ExecuteTime": {
     "end_time": "2023-08-05T14:57:50.082376900Z",
     "start_time": "2023-08-05T14:57:28.771556800Z"
    }
   },
   "outputs": [],
   "source": [
    "idata=pd.read_csv('dataset.csv')"
   ]
  },
  {
   "cell_type": "code",
   "execution_count": 3,
   "id": "bf81ab94",
   "metadata": {
    "ExecuteTime": {
     "end_time": "2023-08-05T14:57:51.724839100Z",
     "start_time": "2023-08-05T14:57:50.082376900Z"
    }
   },
   "outputs": [
    {
     "data": {
      "text/plain": "app_id               0\napp_name        183234\nreview_text       7305\nreview_score         0\nreview_votes         0\ndtype: int64"
     },
     "execution_count": 3,
     "metadata": {},
     "output_type": "execute_result"
    }
   ],
   "source": [
    "idata.isnull().sum()"
   ]
  },
  {
   "cell_type": "code",
   "execution_count": 4,
   "id": "1cbbb9ae",
   "metadata": {
    "ExecuteTime": {
     "end_time": "2023-08-05T14:57:53.696420600Z",
     "start_time": "2023-08-05T14:57:51.724839100Z"
    }
   },
   "outputs": [],
   "source": [
    "idata=idata.dropna()"
   ]
  },
  {
   "cell_type": "code",
   "execution_count": 5,
   "id": "2d51a888",
   "metadata": {
    "ExecuteTime": {
     "end_time": "2023-08-05T14:57:53.712054600Z",
     "start_time": "2023-08-05T14:57:53.696420600Z"
    }
   },
   "outputs": [
    {
     "data": {
      "text/plain": "(6226728, 5)"
     },
     "execution_count": 5,
     "metadata": {},
     "output_type": "execute_result"
    }
   ],
   "source": [
    "idata.shape"
   ]
  },
  {
   "cell_type": "code",
   "execution_count": 6,
   "id": "d8e63b41",
   "metadata": {
    "ExecuteTime": {
     "end_time": "2023-08-05T14:58:02.725098100Z",
     "start_time": "2023-08-05T14:57:53.712054600Z"
    }
   },
   "outputs": [
    {
     "data": {
      "text/plain": "1742878"
     },
     "execution_count": 6,
     "metadata": {},
     "output_type": "execute_result"
    }
   ],
   "source": [
    "idata.duplicated().sum()"
   ]
  },
  {
   "cell_type": "code",
   "execution_count": 7,
   "id": "bc444a7e",
   "metadata": {
    "ExecuteTime": {
     "end_time": "2023-08-05T14:58:11.625021700Z",
     "start_time": "2023-08-05T14:58:02.725098100Z"
    }
   },
   "outputs": [],
   "source": [
    "idata = idata.drop_duplicates()"
   ]
  },
  {
   "cell_type": "code",
   "execution_count": 8,
   "id": "db75c07c",
   "metadata": {
    "ExecuteTime": {
     "end_time": "2023-08-05T14:58:11.640029200Z",
     "start_time": "2023-08-05T14:58:11.625021700Z"
    }
   },
   "outputs": [
    {
     "data": {
      "text/plain": "(4483850, 5)"
     },
     "execution_count": 8,
     "metadata": {},
     "output_type": "execute_result"
    }
   ],
   "source": [
    "idata.shape"
   ]
  },
  {
   "cell_type": "code",
   "execution_count": 9,
   "id": "2af704bc",
   "metadata": {
    "ExecuteTime": {
     "end_time": "2023-08-05T14:58:12.017655800Z",
     "start_time": "2023-08-05T14:58:11.640029200Z"
    }
   },
   "outputs": [
    {
     "data": {
      "text/plain": "<Axes: xlabel='review_score', ylabel='count'>"
     },
     "execution_count": 9,
     "metadata": {},
     "output_type": "execute_result"
    },
    {
     "data": {
      "text/plain": "<Figure size 640x480 with 1 Axes>",
      "image/png": "[encoded data removed]"
     },
     "metadata": {},
     "output_type": "display_data"
    }
   ],
   "source": [
    "sns.countplot(x='review_score',data=idata)"
   ]
  },
  {
   "cell_type": "code",
   "execution_count": 10,
   "id": "21f90c13",
   "metadata": {
    "ExecuteTime": {
     "end_time": "2023-08-05T14:58:13.059033Z",
     "start_time": "2023-08-05T14:58:12.017655800Z"
    }
   },
   "outputs": [],
   "source": [
    "data=pd.concat([idata.drop(idata[idata['review_score']!=1].index,inplace = False).head(60000),\n",
    "                 idata.drop(idata[idata['review_score']!=-1].index,inplace = False).head(60000)])"
   ]
  },
  {
   "cell_type": "code",
   "execution_count": 11,
   "id": "f7b99f57",
   "metadata": {
    "ExecuteTime": {
     "end_time": "2023-08-05T14:58:13.074644500Z",
     "start_time": "2023-08-05T14:58:13.059033Z"
    }
   },
   "outputs": [
    {
     "data": {
      "text/plain": "   app_id        app_name                                        review_text  \\\n0      10  Counter-Strike                                    Ruined my life.   \n1      10  Counter-Strike  This will be more of a ''my experience with th...   \n2      10  Counter-Strike                      This game saved my virginity.   \n3      10  Counter-Strike  • Do you like original games? • Do you like ga...   \n4      10  Counter-Strike           Easy to learn, hard to master.             \n\n   review_score  review_votes  \n0             1             0  \n1             1             1  \n2             1             0  \n3             1             0  \n4             1             1  ",
      "text/html": "<div>\n<style scoped>\n    .dataframe tbody tr th:only-of-type {\n        vertical-align: middle;\n    }\n\n    .dataframe tbody tr th {\n        vertical-align: top;\n    }\n\n    .dataframe thead th {\n        text-align: right;\n    }\n</style>\n<table border=\"1\" class=\"dataframe\">\n  <thead>\n    <tr style=\"text-align: right;\">\n      <th></th>\n      <th>app_id</th>\n      <th>app_name</th>\n      <th>review_text</th>\n      <th>review_score</th>\n      <th>review_votes</th>\n    </tr>\n  </thead>\n  <tbody>\n    <tr>\n      <th>0</th>\n      <td>10</td>\n      <td>Counter-Strike</td>\n      <td>Ruined my life.</td>\n      <td>1</td>\n      <td>0</td>\n    </tr>\n    <tr>\n      <th>1</th>\n      <td>10</td>\n      <td>Counter-Strike</td>\n      <td>This will be more of a ''my experience with th...</td>\n      <td>1</td>\n      <td>1</td>\n    </tr>\n    <tr>\n      <th>2</th>\n      <td>10</td>\n      <td>Counter-Strike</td>\n      <td>This game saved my virginity.</td>\n      <td>1</td>\n      <td>0</td>\n    </tr>\n    <tr>\n      <th>3</th>\n      <td>10</td>\n      <td>Counter-Strike</td>\n      <td>• Do you like original games? • Do you like ga...</td>\n      <td>1</td>\n      <td>0</td>\n    </tr>\n    <tr>\n      <th>4</th>\n      <td>10</td>\n      <td>Counter-Strike</td>\n      <td>Easy to learn, hard to master.</td>\n      <td>1</td>\n      <td>1</td>\n    </tr>\n  </tbody>\n</table>\n</div>"
     },
     "execution_count": 11,
     "metadata": {},
     "output_type": "execute_result"
    }
   ],
   "source": [
    "data.head()"
   ]
  },
  {
   "cell_type": "code",
   "execution_count": 12,
   "id": "eed72794",
   "metadata": {
    "ExecuteTime": {
     "end_time": "2023-08-05T14:58:13.215603800Z",
     "start_time": "2023-08-05T14:58:13.074644500Z"
    }
   },
   "outputs": [
    {
     "data": {
      "text/plain": "<Axes: xlabel='review_score', ylabel='count'>"
     },
     "execution_count": 12,
     "metadata": {},
     "output_type": "execute_result"
    },
    {
     "data": {
      "text/plain": "<Figure size 640x480 with 1 Axes>",
      "image/png": "[encoded data removed]"
     },
     "metadata": {},
     "output_type": "display_data"
    }
   ],
   "source": [
    "sns.countplot(x='review_score',data=data)"
   ]
  },
  {
   "cell_type": "code",
   "execution_count": 13,
   "id": "54ee622f",
   "metadata": {
    "ExecuteTime": {
     "end_time": "2023-08-05T14:58:13.247394Z",
     "start_time": "2023-08-05T14:58:13.215603800Z"
    }
   },
   "outputs": [],
   "source": [
    "data=data.sample(frac=1,random_state=24).reset_index()"
   ]
  },
  {
   "cell_type": "code",
   "execution_count": 14,
   "id": "46163a76",
   "metadata": {
    "ExecuteTime": {
     "end_time": "2023-08-05T14:58:13.294306700Z",
     "start_time": "2023-08-05T14:58:13.247394Z"
    }
   },
   "outputs": [
    {
     "data": {
      "text/plain": "   app_id                    app_name  \\\n0  104900              ORION: Prelude   \n1  113420                Fallen Earth   \n2  104900              ORION: Prelude   \n3   10090  Call of Duty: World at War   \n4   12330                DarkStar One   \n\n                                         review_text  review_score  \\\n0  THIS GAME ISNT WORTH THE SECONDS OF YOUR LIFE ...            -1   \n1                         the ground didnot spawn in            -1   \n2  Lmao Ill tell you right now the games not even...            -1   \n3  Got to say this is by far the best call of dut...             1   \n4  Freelancer's better. Having said that, this ba...            -1   \n\n   review_votes  \n0             0  \n1             0  \n2             0  \n3             0  \n4             1  ",
      "text/html": "<div>\n<style scoped>\n    .dataframe tbody tr th:only-of-type {\n        vertical-align: middle;\n    }\n\n    .dataframe tbody tr th {\n        vertical-align: top;\n    }\n\n    .dataframe thead th {\n        text-align: right;\n    }\n</style>\n<table border=\"1\" class=\"dataframe\">\n  <thead>\n    <tr style=\"text-align: right;\">\n      <th></th>\n      <th>app_id</th>\n      <th>app_name</th>\n      <th>review_text</th>\n      <th>review_score</th>\n      <th>review_votes</th>\n    </tr>\n  </thead>\n  <tbody>\n    <tr>\n      <th>0</th>\n      <td>104900</td>\n      <td>ORION: Prelude</td>\n      <td>THIS GAME ISNT WORTH THE SECONDS OF YOUR LIFE ...</td>\n      <td>-1</td>\n      <td>0</td>\n    </tr>\n    <tr>\n      <th>1</th>\n      <td>113420</td>\n      <td>Fallen Earth</td>\n      <td>the ground didnot spawn in</td>\n      <td>-1</td>\n      <td>0</td>\n    </tr>\n    <tr>\n      <th>2</th>\n      <td>104900</td>\n      <td>ORION: Prelude</td>\n      <td>Lmao Ill tell you right now the games not even...</td>\n      <td>-1</td>\n      <td>0</td>\n    </tr>\n    <tr>\n      <th>3</th>\n      <td>10090</td>\n      <td>Call of Duty: World at War</td>\n      <td>Got to say this is by far the best call of dut...</td>\n      <td>1</td>\n      <td>0</td>\n    </tr>\n    <tr>\n      <th>4</th>\n      <td>12330</td>\n      <td>DarkStar One</td>\n      <td>Freelancer's better. Having said that, this ba...</td>\n      <td>-1</td>\n      <td>1</td>\n    </tr>\n  </tbody>\n</table>\n</div>"
     },
     "execution_count": 14,
     "metadata": {},
     "output_type": "execute_result"
    }
   ],
   "source": [
    "data=data.drop('index',axis=1)\n",
    "data.head()"
   ]
  },
  {
   "cell_type": "code",
   "execution_count": 15,
   "id": "ce2b53e2",
   "metadata": {
    "ExecuteTime": {
     "end_time": "2023-08-05T14:58:13.325560400Z",
     "start_time": "2023-08-05T14:58:13.263055900Z"
    }
   },
   "outputs": [
    {
     "data": {
      "text/plain": "app_id          0\napp_name        0\nreview_text     0\nreview_score    0\nreview_votes    0\ndtype: int64"
     },
     "execution_count": 15,
     "metadata": {},
     "output_type": "execute_result"
    }
   ],
   "source": [
    "data.isnull().sum()"
   ]
  },
  {
   "cell_type": "code",
   "execution_count": 16,
   "id": "f01b124a",
   "metadata": {
    "ExecuteTime": {
     "end_time": "2023-08-05T14:58:13.458987800Z",
     "start_time": "2023-08-05T14:58:13.325560400Z"
    }
   },
   "outputs": [
    {
     "data": {
      "text/plain": "0"
     },
     "execution_count": 16,
     "metadata": {},
     "output_type": "execute_result"
    }
   ],
   "source": [
    "data.duplicated().sum()"
   ]
  },
  {
   "cell_type": "code",
   "execution_count": 17,
   "id": "53514d49",
   "metadata": {
    "ExecuteTime": {
     "end_time": "2023-08-05T14:58:13.490240100Z",
     "start_time": "2023-08-05T14:58:13.458987800Z"
    }
   },
   "outputs": [],
   "source": [
    "data.rename(columns = {'review_score':'Score'}, inplace = True)\n",
    "data.rename(columns = {'review_text':'Review'}, inplace = True)"
   ]
  },
  {
   "cell_type": "code",
   "execution_count": 18,
   "id": "60fe4042",
   "metadata": {
    "ExecuteTime": {
     "end_time": "2023-08-05T14:58:13.490240100Z",
     "start_time": "2023-08-05T14:58:13.474612300Z"
    }
   },
   "outputs": [],
   "source": [
    "data['Score']=data['Score'].map({-1:0,1:1})"
   ]
  },
  {
   "cell_type": "code",
   "execution_count": 19,
   "id": "cec1f0b5",
   "metadata": {
    "ExecuteTime": {
     "end_time": "2023-08-05T14:58:13.521584800Z",
     "start_time": "2023-08-05T14:58:13.490240100Z"
    }
   },
   "outputs": [
    {
     "data": {
      "text/plain": "   app_id                    app_name  \\\n0  104900              ORION: Prelude   \n1  113420                Fallen Earth   \n2  104900              ORION: Prelude   \n3   10090  Call of Duty: World at War   \n4   12330                DarkStar One   \n\n                                              Review  Score  review_votes  \n0  THIS GAME ISNT WORTH THE SECONDS OF YOUR LIFE ...      0             0  \n1                         the ground didnot spawn in      0             0  \n2  Lmao Ill tell you right now the games not even...      0             0  \n3  Got to say this is by far the best call of dut...      1             0  \n4  Freelancer's better. Having said that, this ba...      0             1  ",
      "text/html": "<div>\n<style scoped>\n    .dataframe tbody tr th:only-of-type {\n        vertical-align: middle;\n    }\n\n    .dataframe tbody tr th {\n        vertical-align: top;\n    }\n\n    .dataframe thead th {\n        text-align: right;\n    }\n</style>\n<table border=\"1\" class=\"dataframe\">\n  <thead>\n    <tr style=\"text-align: right;\">\n      <th></th>\n      <th>app_id</th>\n      <th>app_name</th>\n      <th>Review</th>\n      <th>Score</th>\n      <th>review_votes</th>\n    </tr>\n  </thead>\n  <tbody>\n    <tr>\n      <th>0</th>\n      <td>104900</td>\n      <td>ORION: Prelude</td>\n      <td>THIS GAME ISNT WORTH THE SECONDS OF YOUR LIFE ...</td>\n      <td>0</td>\n      <td>0</td>\n    </tr>\n    <tr>\n      <th>1</th>\n      <td>113420</td>\n      <td>Fallen Earth</td>\n      <td>the ground didnot spawn in</td>\n      <td>0</td>\n      <td>0</td>\n    </tr>\n    <tr>\n      <th>2</th>\n      <td>104900</td>\n      <td>ORION: Prelude</td>\n      <td>Lmao Ill tell you right now the games not even...</td>\n      <td>0</td>\n      <td>0</td>\n    </tr>\n    <tr>\n      <th>3</th>\n      <td>10090</td>\n      <td>Call of Duty: World at War</td>\n      <td>Got to say this is by far the best call of dut...</td>\n      <td>1</td>\n      <td>0</td>\n    </tr>\n    <tr>\n      <th>4</th>\n      <td>12330</td>\n      <td>DarkStar One</td>\n      <td>Freelancer's better. Having said that, this ba...</td>\n      <td>0</td>\n      <td>1</td>\n    </tr>\n  </tbody>\n</table>\n</div>"
     },
     "execution_count": 19,
     "metadata": {},
     "output_type": "execute_result"
    }
   ],
   "source": [
    "data.head()"
   ]
  },
  {
   "cell_type": "code",
   "execution_count": 20,
   "id": "3ec50787",
   "metadata": {
    "ExecuteTime": {
     "end_time": "2023-08-05T14:58:13.537632800Z",
     "start_time": "2023-08-05T14:58:13.521584800Z"
    }
   },
   "outputs": [
    {
     "data": {
      "text/plain": "'THIS GAME ISNT WORTH THE SECONDS OF YOUR LIFE TO DOWNLOAD IT.'"
     },
     "execution_count": 20,
     "metadata": {},
     "output_type": "execute_result"
    }
   ],
   "source": [
    "data['Review'][0]"
   ]
  },
  {
   "cell_type": "markdown",
   "id": "8e1f3e84",
   "metadata": {},
   "source": [
    "### Preprocessing"
   ]
  },
  {
   "cell_type": "code",
   "execution_count": 21,
   "id": "9c3d01d4",
   "metadata": {
    "ExecuteTime": {
     "end_time": "2023-08-05T14:58:14.029846600Z",
     "start_time": "2023-08-05T14:58:13.521584800Z"
    }
   },
   "outputs": [],
   "source": [
    "import re\n",
    "from nltk.corpus import stopwords\n",
    "\n",
    "estopwords=stopwords.words('english')\n",
    "estopwords.remove('not')"
   ]
  },
  {
   "cell_type": "code",
   "execution_count": 22,
   "id": "48824903",
   "metadata": {
    "ExecuteTime": {
     "end_time": "2023-08-05T14:58:14.045540400Z",
     "start_time": "2023-08-05T14:58:14.029846600Z"
    }
   },
   "outputs": [],
   "source": [
    "TAG_RE = re.compile(r'<[^>]+>')\n",
    "def remove_tags(text):\n",
    "    return TAG_RE.sub('', text)"
   ]
  },
  {
   "cell_type": "code",
   "execution_count": 23,
   "id": "9ff81b47",
   "metadata": {
    "ExecuteTime": {
     "end_time": "2023-08-05T14:58:14.061150400Z",
     "start_time": "2023-08-05T14:58:14.045540400Z"
    }
   },
   "outputs": [],
   "source": [
    "def preprocess_text(sen,stopwords=['^'],singleremover=True):\n",
    "    '''Cleans text data up, leaving only 2 or more char long non-stepwords composed of A-Z & a-z only\n",
    "    in lowercase'''\n",
    "    \n",
    "    sentence = sen.lower()\n",
    "\n",
    "    # Remove html tags\n",
    "    sentence = remove_tags(sentence)\n",
    "\n",
    "    # Remove punctuations and numbers\n",
    "    sentence = re.sub('[^a-zA-Z]', ' ', sentence)\n",
    "\n",
    "    # Single character removal\n",
    "    if singleremover:\n",
    "        sentence = re.sub(r\"\\s+[a-zA-Z]\\s+\", ' ', sentence)\n",
    "        # When we remove apostrophe from the word \"Mark's\", the apostrophe is replaced by an empty space. Hence, we are left with single character \"s\" that we are removing here.\n",
    "\n",
    "    # Remove multiple spaces\n",
    "    sentence = re.sub(r'\\s+', ' ', sentence)  # Next, we remove all the single characters and replace it by a space which creates multiple spaces in our text. Finally, we remove the multiple spaces from our text as well.\n",
    "\n",
    "    # Remove Stopwords\n",
    "    pattern = re.compile(r'\\b(' + r'|'.join(stopwords) + r')\\b\\s*')\n",
    "    sentence = pattern.sub('', sentence)\n",
    "\n",
    "    return sentence"
   ]
  },
  {
   "cell_type": "code",
   "execution_count": 24,
   "id": "03a6500a",
   "metadata": {
    "ExecuteTime": {
     "end_time": "2023-08-05T14:58:25.779442700Z",
     "start_time": "2023-08-05T14:58:14.061150400Z"
    }
   },
   "outputs": [],
   "source": [
    "x=[]\n",
    "for i in data['Review']:\n",
    "    x.append(preprocess_text(i,estopwords))"
   ]
  },
  {
   "cell_type": "code",
   "execution_count": 25,
   "id": "59b8c78a",
   "metadata": {
    "ExecuteTime": {
     "end_time": "2023-08-05T14:58:25.794801100Z",
     "start_time": "2023-08-05T14:58:25.779442700Z"
    }
   },
   "outputs": [
    {
     "data": {
      "text/plain": "'ground didnot spawn '"
     },
     "execution_count": 25,
     "metadata": {},
     "output_type": "execute_result"
    }
   ],
   "source": [
    "x[1]"
   ]
  },
  {
   "cell_type": "code",
   "execution_count": 26,
   "id": "f6c2131c",
   "metadata": {
    "ExecuteTime": {
     "end_time": "2023-08-05T14:58:26.761703700Z",
     "start_time": "2023-08-05T14:58:25.794801100Z"
    }
   },
   "outputs": [],
   "source": [
    "inputs=np.array(x)\n",
    "targets=np.array(data['Score'])"
   ]
  },
  {
   "cell_type": "code",
   "execution_count": 27,
   "id": "c8ce6ee3",
   "metadata": {
    "ExecuteTime": {
     "end_time": "2023-08-05T14:58:26.777335800Z",
     "start_time": "2023-08-05T14:58:26.761703700Z"
    }
   },
   "outputs": [
    {
     "data": {
      "text/plain": "array(['game isnt worth seconds life download ', 'ground didnot spawn ',\n       'lmao ill tell right games not even worth given game friend ago first came first like mins uninstalled garbage came back little ago seen changed since not still garbage almost bought friends however didnt feel like would played much would waste could go get soda something better game looks amazing looks like would lot fun maybe not stand graphics animations gameplay ',\n       ...,\n       'honestly get felt bit rails screenshots expected something like gta focusing detectives controls also felt right ',\n       'played game school teacher game ',\n       'pay win game ever fun made addictave spend money play got money'],\n      dtype='<U7982')"
     },
     "execution_count": 27,
     "metadata": {},
     "output_type": "execute_result"
    }
   ],
   "source": [
    "inputs"
   ]
  },
  {
   "cell_type": "markdown",
   "id": "fd2d5bd6",
   "metadata": {},
   "source": [
    "### Embedding"
   ]
  },
  {
   "cell_type": "code",
   "execution_count": 28,
   "id": "fc6c51b0",
   "metadata": {
    "ExecuteTime": {
     "end_time": "2023-08-05T14:58:30.749492500Z",
     "start_time": "2023-08-05T14:58:26.777335800Z"
    }
   },
   "outputs": [],
   "source": [
    "x_train, x_test, y_train, y_test = train_test_split(inputs, targets, test_size=0.20, random_state=42)"
   ]
  },
  {
   "cell_type": "code",
   "execution_count": 29,
   "id": "b1a37dbe",
   "metadata": {
    "ExecuteTime": {
     "end_time": "2023-08-05T14:58:30.827999300Z",
     "start_time": "2023-08-05T14:58:30.766607600Z"
    }
   },
   "outputs": [
    {
     "data": {
      "text/plain": "'pretty great blast past remember playing game even better started nazi zombies honestly last good game cod series '"
     },
     "execution_count": 29,
     "metadata": {},
     "output_type": "execute_result"
    }
   ],
   "source": [
    "x_train[11]"
   ]
  },
  {
   "cell_type": "code",
   "execution_count": 30,
   "id": "c2c8fa0b",
   "metadata": {
    "ExecuteTime": {
     "end_time": "2023-08-05T14:58:30.827999300Z",
     "start_time": "2023-08-05T14:58:30.796749600Z"
    }
   },
   "outputs": [
    {
     "data": {
      "text/plain": "1"
     },
     "execution_count": 30,
     "metadata": {},
     "output_type": "execute_result"
    }
   ],
   "source": [
    "y_train[11]"
   ]
  },
  {
   "cell_type": "code",
   "execution_count": 31,
   "id": "9bd8948d",
   "metadata": {
    "ExecuteTime": {
     "end_time": "2023-08-05T14:58:30.985042200Z",
     "start_time": "2023-08-05T14:58:30.812376700Z"
    }
   },
   "outputs": [
    {
     "data": {
      "text/plain": "'good fun game '"
     },
     "execution_count": 31,
     "metadata": {},
     "output_type": "execute_result"
    }
   ],
   "source": [
    "x_test[11]"
   ]
  },
  {
   "cell_type": "code",
   "execution_count": 32,
   "id": "d73a194c",
   "metadata": {
    "ExecuteTime": {
     "end_time": "2023-08-05T14:58:31.063167500Z",
     "start_time": "2023-08-05T14:58:30.827999300Z"
    }
   },
   "outputs": [
    {
     "data": {
      "text/plain": "1"
     },
     "execution_count": 32,
     "metadata": {},
     "output_type": "execute_result"
    }
   ],
   "source": [
    "y_test[11]"
   ]
  },
  {
   "cell_type": "code",
   "execution_count": 33,
   "id": "0e725086",
   "metadata": {
    "ExecuteTime": {
     "end_time": "2023-08-05T14:58:37.050075800Z",
     "start_time": "2023-08-05T14:58:30.843623700Z"
    }
   },
   "outputs": [],
   "source": [
    "from tensorflow import keras"
   ]
  },
  {
   "cell_type": "code",
   "execution_count": 34,
   "id": "f87dcada",
   "metadata": {
    "ExecuteTime": {
     "end_time": "2023-08-05T14:58:40.767756200Z",
     "start_time": "2023-08-05T14:58:37.050075800Z"
    }
   },
   "outputs": [],
   "source": [
    "tokenizer= keras.preprocessing.text.Tokenizer()\n",
    "tokenizer.fit_on_texts(x_train)"
   ]
  },
  {
   "cell_type": "code",
   "execution_count": null,
   "outputs": [],
   "source": [
    "import pickle\n",
    "file = open(\"tokenizer.pkl\",'wb')\n",
    "pickle.dump(tokenizer,file)\n",
    "file.close()"
   ],
   "metadata": {
    "collapsed": false
   }
  },
  {
   "cell_type": "code",
   "execution_count": 35,
   "id": "f1630c4f",
   "metadata": {
    "ExecuteTime": {
     "end_time": "2023-08-05T14:58:44.149841700Z",
     "start_time": "2023-08-05T14:58:40.765613200Z"
    }
   },
   "outputs": [],
   "source": [
    "x_train=tokenizer.texts_to_sequences(x_train)\n",
    "x_test=tokenizer.texts_to_sequences(x_test)"
   ]
  },
  {
   "cell_type": "code",
   "execution_count": 36,
   "id": "14adaead",
   "metadata": {
    "ExecuteTime": {
     "end_time": "2023-08-05T14:58:44.165454900Z",
     "start_time": "2023-08-05T14:58:44.149841700Z"
    }
   },
   "outputs": [],
   "source": [
    "vocab_length = len(tokenizer.word_index) + 1"
   ]
  },
  {
   "cell_type": "code",
   "execution_count": 37,
   "id": "910a9edf",
   "metadata": {
    "ExecuteTime": {
     "end_time": "2023-08-05T14:58:44.212769400Z",
     "start_time": "2023-08-05T14:58:44.165454900Z"
    }
   },
   "outputs": [
    {
     "data": {
      "text/plain": "[276, 516, 322, 317, 233, 245]"
     },
     "execution_count": 37,
     "metadata": {},
     "output_type": "execute_result"
    }
   ],
   "source": [
    "x_train[0]"
   ]
  },
  {
   "cell_type": "code",
   "execution_count": 38,
   "id": "cc6ea940",
   "metadata": {
    "ExecuteTime": {
     "end_time": "2023-08-05T14:58:44.508829700Z",
     "start_time": "2023-08-05T14:58:44.197124800Z"
    }
   },
   "outputs": [],
   "source": [
    "maxlen = 50\n",
    "\n",
    "x_train = keras.preprocessing.sequence.pad_sequences(x_train, padding='post', maxlen=maxlen)\n",
    "x_test = keras.preprocessing.sequence.pad_sequences(x_test, padding='post', maxlen=maxlen)"
   ]
  },
  {
   "cell_type": "markdown",
   "id": "c5d3e169",
   "metadata": {},
   "source": [
    "### Model Building"
   ]
  },
  {
   "cell_type": "code",
   "execution_count": 39,
   "id": "5486b799",
   "metadata": {
    "ExecuteTime": {
     "end_time": "2023-08-05T14:58:44.618602300Z",
     "start_time": "2023-08-05T14:58:44.508829700Z"
    }
   },
   "outputs": [],
   "source": [
    "model = keras.Sequential()"
   ]
  },
  {
   "cell_type": "code",
   "execution_count": 40,
   "id": "eea27481",
   "metadata": {
    "ExecuteTime": {
     "end_time": "2023-08-05T14:58:45.249498500Z",
     "start_time": "2023-08-05T14:58:44.618602300Z"
    }
   },
   "outputs": [],
   "source": [
    "model.add(keras.layers.Embedding(vocab_length,output_dim=10,input_length=maxlen))\n",
    "model.add(keras.layers.LSTM(128,return_sequences=True))\n",
    "model.add(keras.layers.Dropout(0.2))\n",
    "model.add(keras.layers.LSTM(128,return_sequences=False))\n",
    "model.add(keras.layers.Dense(1,activation='sigmoid'))"
   ]
  },
  {
   "cell_type": "code",
   "execution_count": 41,
   "id": "f2ff527e",
   "metadata": {
    "ExecuteTime": {
     "end_time": "2023-08-05T14:58:45.323860200Z",
     "start_time": "2023-08-05T14:58:45.249498500Z"
    }
   },
   "outputs": [
    {
     "name": "stdout",
     "output_type": "stream",
     "text": [
      "Model: \"sequential\"\n",
      "_________________________________________________________________\n",
      " Layer (type)                Output Shape              Param #   \n",
      "=================================================================\n",
      " embedding (Embedding)       (None, 50, 10)            643140    \n",
      "                                                                 \n",
      " lstm (LSTM)                 (None, 50, 128)           71168     \n",
      "                                                                 \n",
      " dropout (Dropout)           (None, 50, 128)           0         \n",
      "                                                                 \n",
      " lstm_1 (LSTM)               (None, 128)               131584    \n",
      "                                                                 \n",
      " dense (Dense)               (None, 1)                 129       \n",
      "                                                                 \n",
      "=================================================================\n",
      "Total params: 846021 (3.23 MB)\n",
      "Trainable params: 846021 (3.23 MB)\n",
      "Non-trainable params: 0 (0.00 Byte)\n",
      "_________________________________________________________________\n"
     ]
    }
   ],
   "source": [
    "model.summary()"
   ]
  },
  {
   "cell_type": "code",
   "execution_count": 42,
   "id": "bf0b5514",
   "metadata": {
    "ExecuteTime": {
     "end_time": "2023-08-05T14:58:45.355136400Z",
     "start_time": "2023-08-05T14:58:45.280762Z"
    }
   },
   "outputs": [],
   "source": [
    "model.compile(optimizer='adam', loss='binary_crossentropy', metrics=['accuracy'])"
   ]
  },
  {
   "cell_type": "code",
   "execution_count": 43,
   "id": "f2f2a5d9",
   "metadata": {
    "ExecuteTime": {
     "end_time": "2023-08-05T17:45:04.295634100Z",
     "start_time": "2023-08-05T14:58:45.308339100Z"
    }
   },
   "outputs": [
    {
     "name": "stdout",
     "output_type": "stream",
     "text": [
      "Epoch 1/126\n",
      "600/600 [==============================] - 82s 131ms/step - loss: 0.3838 - accuracy: 0.8208 - val_loss: 0.3313 - val_accuracy: 0.8520\n",
      "Epoch 2/126\n",
      "600/600 [==============================] - 81s 135ms/step - loss: 0.2715 - accuracy: 0.8896 - val_loss: 0.3245 - val_accuracy: 0.8600\n",
      "Epoch 3/126\n",
      "600/600 [==============================] - 81s 135ms/step - loss: 0.2357 - accuracy: 0.9054 - val_loss: 0.3765 - val_accuracy: 0.8576\n",
      "Epoch 4/126\n",
      "600/600 [==============================] - 80s 133ms/step - loss: 0.2138 - accuracy: 0.9144 - val_loss: 0.4039 - val_accuracy: 0.8458\n",
      "Epoch 5/126\n",
      "600/600 [==============================] - 80s 133ms/step - loss: 0.1950 - accuracy: 0.9225 - val_loss: 0.3540 - val_accuracy: 0.8522\n",
      "Epoch 6/126\n",
      "600/600 [==============================] - 82s 136ms/step - loss: 0.1818 - accuracy: 0.9282 - val_loss: 0.3780 - val_accuracy: 0.8501\n",
      "Epoch 7/126\n",
      "600/600 [==============================] - 80s 134ms/step - loss: 0.1696 - accuracy: 0.9318 - val_loss: 0.4190 - val_accuracy: 0.8458\n",
      "Epoch 8/126\n",
      "600/600 [==============================] - 82s 136ms/step - loss: 0.1570 - accuracy: 0.9362 - val_loss: 0.4963 - val_accuracy: 0.8399\n",
      "Epoch 9/126\n",
      "600/600 [==============================] - 82s 137ms/step - loss: 0.1490 - accuracy: 0.9390 - val_loss: 0.4510 - val_accuracy: 0.8451\n",
      "Epoch 10/126\n",
      "600/600 [==============================] - 82s 136ms/step - loss: 0.1401 - accuracy: 0.9418 - val_loss: 0.4689 - val_accuracy: 0.8431\n",
      "Epoch 11/126\n",
      "600/600 [==============================] - 82s 136ms/step - loss: 0.1346 - accuracy: 0.9433 - val_loss: 0.4822 - val_accuracy: 0.8410\n",
      "Epoch 12/126\n",
      "600/600 [==============================] - 83s 139ms/step - loss: 0.1253 - accuracy: 0.9465 - val_loss: 0.6026 - val_accuracy: 0.8425\n",
      "Epoch 13/126\n",
      "600/600 [==============================] - 83s 138ms/step - loss: 0.1208 - accuracy: 0.9482 - val_loss: 0.5610 - val_accuracy: 0.8363\n",
      "Epoch 14/126\n",
      "600/600 [==============================] - 82s 136ms/step - loss: 0.1166 - accuracy: 0.9498 - val_loss: 0.6359 - val_accuracy: 0.8407\n",
      "Epoch 15/126\n",
      "600/600 [==============================] - 83s 138ms/step - loss: 0.1096 - accuracy: 0.9532 - val_loss: 0.6506 - val_accuracy: 0.8412\n",
      "Epoch 16/126\n",
      "600/600 [==============================] - 82s 137ms/step - loss: 0.1042 - accuracy: 0.9550 - val_loss: 0.6817 - val_accuracy: 0.8386\n",
      "Epoch 17/126\n",
      "600/600 [==============================] - 84s 141ms/step - loss: 0.0986 - accuracy: 0.9581 - val_loss: 0.6643 - val_accuracy: 0.8349\n",
      "Epoch 18/126\n",
      "600/600 [==============================] - 82s 136ms/step - loss: 0.0934 - accuracy: 0.9606 - val_loss: 0.6040 - val_accuracy: 0.8348\n",
      "Epoch 19/126\n",
      "600/600 [==============================] - 81s 135ms/step - loss: 0.0900 - accuracy: 0.9625 - val_loss: 0.6626 - val_accuracy: 0.8371\n",
      "Epoch 20/126\n",
      "600/600 [==============================] - 83s 138ms/step - loss: 0.0858 - accuracy: 0.9633 - val_loss: 0.6322 - val_accuracy: 0.8385\n",
      "Epoch 21/126\n",
      "600/600 [==============================] - 81s 135ms/step - loss: 0.0831 - accuracy: 0.9649 - val_loss: 0.7757 - val_accuracy: 0.8374\n",
      "Epoch 22/126\n",
      "600/600 [==============================] - 82s 136ms/step - loss: 0.0801 - accuracy: 0.9668 - val_loss: 0.7361 - val_accuracy: 0.8368\n",
      "Epoch 23/126\n",
      "600/600 [==============================] - 82s 136ms/step - loss: 0.0768 - accuracy: 0.9679 - val_loss: 0.7559 - val_accuracy: 0.8358\n",
      "Epoch 24/126\n",
      "600/600 [==============================] - 80s 134ms/step - loss: 0.0744 - accuracy: 0.9689 - val_loss: 0.7858 - val_accuracy: 0.8347\n",
      "Epoch 25/126\n",
      "600/600 [==============================] - 82s 136ms/step - loss: 0.0728 - accuracy: 0.9700 - val_loss: 0.8348 - val_accuracy: 0.8352\n",
      "Epoch 26/126\n",
      "600/600 [==============================] - 81s 135ms/step - loss: 0.0690 - accuracy: 0.9711 - val_loss: 0.7861 - val_accuracy: 0.8364\n",
      "Epoch 27/126\n",
      "600/600 [==============================] - 80s 133ms/step - loss: 0.0670 - accuracy: 0.9719 - val_loss: 0.8613 - val_accuracy: 0.8318\n",
      "Epoch 28/126\n",
      "600/600 [==============================] - 79s 132ms/step - loss: 0.0667 - accuracy: 0.9723 - val_loss: 0.9259 - val_accuracy: 0.8336\n",
      "Epoch 29/126\n",
      "600/600 [==============================] - 78s 131ms/step - loss: 0.0648 - accuracy: 0.9726 - val_loss: 0.8236 - val_accuracy: 0.8325\n",
      "Epoch 30/126\n",
      "600/600 [==============================] - 81s 135ms/step - loss: 0.0635 - accuracy: 0.9739 - val_loss: 0.8308 - val_accuracy: 0.8318\n",
      "Epoch 31/126\n",
      "600/600 [==============================] - 80s 134ms/step - loss: 0.0634 - accuracy: 0.9740 - val_loss: 0.8964 - val_accuracy: 0.8261\n",
      "Epoch 32/126\n",
      "600/600 [==============================] - 79s 132ms/step - loss: 0.0627 - accuracy: 0.9737 - val_loss: 0.8019 - val_accuracy: 0.8346\n",
      "Epoch 33/126\n",
      "600/600 [==============================] - 82s 137ms/step - loss: 0.0650 - accuracy: 0.9737 - val_loss: 0.8141 - val_accuracy: 0.8332\n",
      "Epoch 34/126\n",
      "600/600 [==============================] - 80s 133ms/step - loss: 0.0611 - accuracy: 0.9744 - val_loss: 0.8967 - val_accuracy: 0.8302\n",
      "Epoch 35/126\n",
      "600/600 [==============================] - 80s 134ms/step - loss: 0.0651 - accuracy: 0.9733 - val_loss: 0.7303 - val_accuracy: 0.8260\n",
      "Epoch 36/126\n",
      "600/600 [==============================] - 79s 132ms/step - loss: 0.0659 - accuracy: 0.9727 - val_loss: 0.9221 - val_accuracy: 0.8313\n",
      "Epoch 37/126\n",
      "600/600 [==============================] - 81s 135ms/step - loss: 0.0641 - accuracy: 0.9741 - val_loss: 0.8218 - val_accuracy: 0.8294\n",
      "Epoch 38/126\n",
      "600/600 [==============================] - 82s 137ms/step - loss: 0.0613 - accuracy: 0.9745 - val_loss: 1.0072 - val_accuracy: 0.8304\n",
      "Epoch 39/126\n",
      "600/600 [==============================] - 81s 134ms/step - loss: 0.0590 - accuracy: 0.9760 - val_loss: 0.8147 - val_accuracy: 0.8299\n",
      "Epoch 40/126\n",
      "600/600 [==============================] - 81s 136ms/step - loss: 0.0563 - accuracy: 0.9768 - val_loss: 0.9832 - val_accuracy: 0.8279\n",
      "Epoch 41/126\n",
      "600/600 [==============================] - 82s 137ms/step - loss: 0.0528 - accuracy: 0.9781 - val_loss: 0.9904 - val_accuracy: 0.8299\n",
      "Epoch 42/126\n",
      "600/600 [==============================] - 82s 136ms/step - loss: 0.0503 - accuracy: 0.9791 - val_loss: 1.0750 - val_accuracy: 0.8308\n",
      "Epoch 43/126\n",
      "600/600 [==============================] - 80s 133ms/step - loss: 0.0512 - accuracy: 0.9785 - val_loss: 1.0071 - val_accuracy: 0.8272\n",
      "Epoch 44/126\n",
      "600/600 [==============================] - 80s 133ms/step - loss: 0.0491 - accuracy: 0.9795 - val_loss: 0.8685 - val_accuracy: 0.8262\n",
      "Epoch 45/126\n",
      "600/600 [==============================] - 80s 133ms/step - loss: 0.0478 - accuracy: 0.9800 - val_loss: 1.0583 - val_accuracy: 0.8281\n",
      "Epoch 46/126\n",
      "600/600 [==============================] - 80s 133ms/step - loss: 0.0464 - accuracy: 0.9805 - val_loss: 1.0680 - val_accuracy: 0.8211\n",
      "Epoch 47/126\n",
      "600/600 [==============================] - 81s 134ms/step - loss: 0.0467 - accuracy: 0.9800 - val_loss: 0.9371 - val_accuracy: 0.8282\n",
      "Epoch 48/126\n",
      "600/600 [==============================] - 81s 134ms/step - loss: 0.0456 - accuracy: 0.9804 - val_loss: 1.1006 - val_accuracy: 0.8273\n",
      "Epoch 49/126\n",
      "600/600 [==============================] - 80s 133ms/step - loss: 0.0505 - accuracy: 0.9782 - val_loss: 1.0889 - val_accuracy: 0.8295\n",
      "Epoch 50/126\n",
      "600/600 [==============================] - 79s 132ms/step - loss: 0.0446 - accuracy: 0.9805 - val_loss: 1.1107 - val_accuracy: 0.8257\n",
      "Epoch 51/126\n",
      "600/600 [==============================] - 82s 137ms/step - loss: 0.0447 - accuracy: 0.9806 - val_loss: 1.1744 - val_accuracy: 0.8261\n",
      "Epoch 52/126\n",
      "600/600 [==============================] - 82s 136ms/step - loss: 0.0475 - accuracy: 0.9794 - val_loss: 1.0925 - val_accuracy: 0.8242\n",
      "Epoch 53/126\n",
      "600/600 [==============================] - 80s 133ms/step - loss: 0.0443 - accuracy: 0.9811 - val_loss: 1.0671 - val_accuracy: 0.8272\n",
      "Epoch 54/126\n",
      "600/600 [==============================] - 78s 130ms/step - loss: 0.0414 - accuracy: 0.9822 - val_loss: 1.1372 - val_accuracy: 0.8275\n",
      "Epoch 55/126\n",
      "600/600 [==============================] - 80s 133ms/step - loss: 0.0410 - accuracy: 0.9824 - val_loss: 1.0944 - val_accuracy: 0.8259\n",
      "Epoch 56/126\n",
      "600/600 [==============================] - 82s 137ms/step - loss: 0.0400 - accuracy: 0.9826 - val_loss: 1.2527 - val_accuracy: 0.8267\n",
      "Epoch 57/126\n",
      "600/600 [==============================] - 79s 131ms/step - loss: 0.0427 - accuracy: 0.9822 - val_loss: 1.1427 - val_accuracy: 0.8257\n",
      "Epoch 58/126\n",
      "600/600 [==============================] - 79s 132ms/step - loss: 0.0397 - accuracy: 0.9824 - val_loss: 1.2008 - val_accuracy: 0.8258\n",
      "Epoch 59/126\n",
      "600/600 [==============================] - 82s 137ms/step - loss: 0.0406 - accuracy: 0.9825 - val_loss: 1.0356 - val_accuracy: 0.8251\n",
      "Epoch 60/126\n",
      "600/600 [==============================] - 82s 137ms/step - loss: 0.0394 - accuracy: 0.9830 - val_loss: 1.2311 - val_accuracy: 0.8234\n",
      "Epoch 61/126\n",
      "600/600 [==============================] - 82s 136ms/step - loss: 0.0368 - accuracy: 0.9836 - val_loss: 1.1830 - val_accuracy: 0.8243\n",
      "Epoch 62/126\n",
      "600/600 [==============================] - 83s 138ms/step - loss: 0.0394 - accuracy: 0.9826 - val_loss: 1.1053 - val_accuracy: 0.8255\n",
      "Epoch 63/126\n",
      "600/600 [==============================] - 81s 136ms/step - loss: 0.0368 - accuracy: 0.9839 - val_loss: 1.2063 - val_accuracy: 0.8265\n",
      "Epoch 64/126\n",
      "600/600 [==============================] - 79s 131ms/step - loss: 0.0356 - accuracy: 0.9846 - val_loss: 1.2254 - val_accuracy: 0.8262\n",
      "Epoch 65/126\n",
      "600/600 [==============================] - 79s 131ms/step - loss: 0.0345 - accuracy: 0.9846 - val_loss: 1.2270 - val_accuracy: 0.8267\n",
      "Epoch 66/126\n",
      "600/600 [==============================] - 77s 128ms/step - loss: 0.0433 - accuracy: 0.9819 - val_loss: 1.0406 - val_accuracy: 0.8277\n",
      "Epoch 67/126\n",
      "600/600 [==============================] - 78s 130ms/step - loss: 0.0433 - accuracy: 0.9811 - val_loss: 1.1050 - val_accuracy: 0.8253\n",
      "Epoch 68/126\n",
      "600/600 [==============================] - 77s 129ms/step - loss: 0.0353 - accuracy: 0.9846 - val_loss: 1.2212 - val_accuracy: 0.8278\n",
      "Epoch 69/126\n",
      "600/600 [==============================] - 77s 128ms/step - loss: 0.0346 - accuracy: 0.9849 - val_loss: 1.2199 - val_accuracy: 0.8276\n",
      "Epoch 70/126\n",
      "600/600 [==============================] - 74s 124ms/step - loss: 0.0329 - accuracy: 0.9855 - val_loss: 1.2017 - val_accuracy: 0.8273\n",
      "Epoch 71/126\n",
      "600/600 [==============================] - 74s 124ms/step - loss: 0.0356 - accuracy: 0.9843 - val_loss: 1.2172 - val_accuracy: 0.8226\n",
      "Epoch 72/126\n",
      "600/600 [==============================] - 74s 123ms/step - loss: 0.0344 - accuracy: 0.9849 - val_loss: 1.1859 - val_accuracy: 0.8238\n",
      "Epoch 73/126\n",
      "600/600 [==============================] - 77s 128ms/step - loss: 0.0334 - accuracy: 0.9850 - val_loss: 1.1741 - val_accuracy: 0.8263\n",
      "Epoch 74/126\n",
      "600/600 [==============================] - 76s 126ms/step - loss: 0.0313 - accuracy: 0.9860 - val_loss: 1.2257 - val_accuracy: 0.8267\n",
      "Epoch 75/126\n",
      "600/600 [==============================] - 80s 134ms/step - loss: 0.0301 - accuracy: 0.9862 - val_loss: 1.2518 - val_accuracy: 0.8279\n",
      "Epoch 76/126\n",
      "600/600 [==============================] - 80s 133ms/step - loss: 0.0305 - accuracy: 0.9862 - val_loss: 1.2454 - val_accuracy: 0.8261\n",
      "Epoch 77/126\n",
      "600/600 [==============================] - 78s 130ms/step - loss: 0.0305 - accuracy: 0.9864 - val_loss: 1.2829 - val_accuracy: 0.8268\n",
      "Epoch 78/126\n",
      "600/600 [==============================] - 78s 129ms/step - loss: 0.0300 - accuracy: 0.9868 - val_loss: 1.2831 - val_accuracy: 0.8263\n",
      "Epoch 79/126\n",
      "600/600 [==============================] - 80s 133ms/step - loss: 0.0343 - accuracy: 0.9851 - val_loss: 1.1147 - val_accuracy: 0.8255\n",
      "Epoch 80/126\n",
      "600/600 [==============================] - 78s 131ms/step - loss: 0.0307 - accuracy: 0.9862 - val_loss: 1.2685 - val_accuracy: 0.8256\n",
      "Epoch 81/126\n",
      "600/600 [==============================] - 79s 131ms/step - loss: 0.0282 - accuracy: 0.9873 - val_loss: 1.3750 - val_accuracy: 0.8256\n",
      "Epoch 82/126\n",
      "600/600 [==============================] - 80s 133ms/step - loss: 0.0272 - accuracy: 0.9872 - val_loss: 1.4070 - val_accuracy: 0.8216\n",
      "Epoch 83/126\n",
      "600/600 [==============================] - 80s 134ms/step - loss: 0.0277 - accuracy: 0.9878 - val_loss: 1.3898 - val_accuracy: 0.8286\n",
      "Epoch 84/126\n",
      "600/600 [==============================] - 81s 135ms/step - loss: 0.0287 - accuracy: 0.9872 - val_loss: 1.4190 - val_accuracy: 0.8248\n",
      "Epoch 85/126\n",
      "600/600 [==============================] - 80s 133ms/step - loss: 0.0266 - accuracy: 0.9879 - val_loss: 1.2956 - val_accuracy: 0.8257\n",
      "Epoch 86/126\n",
      "600/600 [==============================] - 79s 132ms/step - loss: 0.0270 - accuracy: 0.9878 - val_loss: 1.3712 - val_accuracy: 0.8250\n",
      "Epoch 87/126\n",
      "600/600 [==============================] - 78s 131ms/step - loss: 0.0269 - accuracy: 0.9883 - val_loss: 1.2564 - val_accuracy: 0.8242\n",
      "Epoch 88/126\n",
      "600/600 [==============================] - 76s 127ms/step - loss: 0.0260 - accuracy: 0.9878 - val_loss: 1.4103 - val_accuracy: 0.8269\n",
      "Epoch 89/126\n",
      "600/600 [==============================] - 76s 127ms/step - loss: 0.0270 - accuracy: 0.9879 - val_loss: 1.3541 - val_accuracy: 0.8251\n",
      "Epoch 90/126\n",
      "600/600 [==============================] - 77s 128ms/step - loss: 0.0263 - accuracy: 0.9882 - val_loss: 1.3273 - val_accuracy: 0.8227\n",
      "Epoch 91/126\n",
      "600/600 [==============================] - 77s 128ms/step - loss: 0.0250 - accuracy: 0.9884 - val_loss: 1.4158 - val_accuracy: 0.8229\n",
      "Epoch 92/126\n",
      "600/600 [==============================] - 77s 128ms/step - loss: 0.0247 - accuracy: 0.9883 - val_loss: 1.2904 - val_accuracy: 0.8265\n",
      "Epoch 93/126\n",
      "600/600 [==============================] - 77s 128ms/step - loss: 0.0252 - accuracy: 0.9881 - val_loss: 1.3001 - val_accuracy: 0.8249\n",
      "Epoch 94/126\n",
      "600/600 [==============================] - 77s 128ms/step - loss: 0.0255 - accuracy: 0.9879 - val_loss: 1.3838 - val_accuracy: 0.8240\n",
      "Epoch 95/126\n",
      "600/600 [==============================] - 76s 127ms/step - loss: 0.0236 - accuracy: 0.9892 - val_loss: 1.4091 - val_accuracy: 0.8228\n",
      "Epoch 96/126\n",
      "600/600 [==============================] - 76s 127ms/step - loss: 0.0244 - accuracy: 0.9886 - val_loss: 1.4337 - val_accuracy: 0.8226\n",
      "Epoch 97/126\n",
      "600/600 [==============================] - 77s 129ms/step - loss: 0.0228 - accuracy: 0.9894 - val_loss: 1.4472 - val_accuracy: 0.8246\n",
      "Epoch 98/126\n",
      "600/600 [==============================] - 76s 127ms/step - loss: 0.0233 - accuracy: 0.9891 - val_loss: 1.3989 - val_accuracy: 0.8238\n",
      "Epoch 99/126\n",
      "600/600 [==============================] - 77s 128ms/step - loss: 0.0253 - accuracy: 0.9885 - val_loss: 1.3287 - val_accuracy: 0.8253\n",
      "Epoch 100/126\n",
      "600/600 [==============================] - 79s 131ms/step - loss: 0.0229 - accuracy: 0.9895 - val_loss: 1.4096 - val_accuracy: 0.8252\n",
      "Epoch 101/126\n",
      "600/600 [==============================] - 78s 130ms/step - loss: 0.0223 - accuracy: 0.9896 - val_loss: 1.3935 - val_accuracy: 0.8253\n",
      "Epoch 102/126\n",
      "600/600 [==============================] - 78s 130ms/step - loss: 0.0222 - accuracy: 0.9896 - val_loss: 1.4500 - val_accuracy: 0.8244\n",
      "Epoch 103/126\n",
      "600/600 [==============================] - 76s 126ms/step - loss: 0.0227 - accuracy: 0.9895 - val_loss: 1.4679 - val_accuracy: 0.8226\n",
      "Epoch 104/126\n",
      "600/600 [==============================] - 76s 126ms/step - loss: 0.0216 - accuracy: 0.9900 - val_loss: 1.4484 - val_accuracy: 0.8204\n",
      "Epoch 105/126\n",
      "600/600 [==============================] - 75s 126ms/step - loss: 0.0236 - accuracy: 0.9891 - val_loss: 1.0668 - val_accuracy: 0.8248\n",
      "Epoch 106/126\n",
      "600/600 [==============================] - 75s 126ms/step - loss: 0.0270 - accuracy: 0.9881 - val_loss: 1.3266 - val_accuracy: 0.8218\n",
      "Epoch 107/126\n",
      "600/600 [==============================] - 77s 129ms/step - loss: 0.0212 - accuracy: 0.9899 - val_loss: 1.4318 - val_accuracy: 0.8234\n",
      "Epoch 108/126\n",
      "600/600 [==============================] - 76s 126ms/step - loss: 0.0220 - accuracy: 0.9894 - val_loss: 1.3625 - val_accuracy: 0.8228\n",
      "Epoch 109/126\n",
      "600/600 [==============================] - 79s 131ms/step - loss: 0.0225 - accuracy: 0.9892 - val_loss: 1.4631 - val_accuracy: 0.8235\n",
      "Epoch 110/126\n",
      "600/600 [==============================] - 77s 128ms/step - loss: 0.0221 - accuracy: 0.9897 - val_loss: 1.4019 - val_accuracy: 0.8259\n",
      "Epoch 111/126\n",
      "600/600 [==============================] - 77s 128ms/step - loss: 0.0280 - accuracy: 0.9877 - val_loss: 1.2806 - val_accuracy: 0.8267\n",
      "Epoch 112/126\n",
      "600/600 [==============================] - 76s 127ms/step - loss: 0.0226 - accuracy: 0.9896 - val_loss: 1.4135 - val_accuracy: 0.8261\n",
      "Epoch 113/126\n",
      "600/600 [==============================] - 77s 129ms/step - loss: 0.0225 - accuracy: 0.9897 - val_loss: 1.3574 - val_accuracy: 0.8235\n",
      "Epoch 114/126\n",
      "600/600 [==============================] - 79s 132ms/step - loss: 0.0203 - accuracy: 0.9904 - val_loss: 1.4280 - val_accuracy: 0.8249\n",
      "Epoch 115/126\n",
      "600/600 [==============================] - 78s 130ms/step - loss: 0.0207 - accuracy: 0.9902 - val_loss: 1.3637 - val_accuracy: 0.8230\n",
      "Epoch 116/126\n",
      "600/600 [==============================] - 79s 132ms/step - loss: 0.0252 - accuracy: 0.9885 - val_loss: 1.3185 - val_accuracy: 0.8254\n",
      "Epoch 117/126\n",
      "600/600 [==============================] - 77s 128ms/step - loss: 0.0210 - accuracy: 0.9899 - val_loss: 1.2985 - val_accuracy: 0.8245\n",
      "Epoch 118/126\n",
      "600/600 [==============================] - 79s 132ms/step - loss: 0.0199 - accuracy: 0.9907 - val_loss: 1.3933 - val_accuracy: 0.8250\n",
      "Epoch 119/126\n",
      "600/600 [==============================] - 76s 127ms/step - loss: 0.0199 - accuracy: 0.9907 - val_loss: 1.3346 - val_accuracy: 0.8257\n",
      "Epoch 120/126\n",
      "600/600 [==============================] - 78s 130ms/step - loss: 0.0198 - accuracy: 0.9904 - val_loss: 1.3551 - val_accuracy: 0.8269\n",
      "Epoch 121/126\n",
      "600/600 [==============================] - 78s 130ms/step - loss: 0.0208 - accuracy: 0.9901 - val_loss: 1.2662 - val_accuracy: 0.8264\n",
      "Epoch 122/126\n",
      "600/600 [==============================] - 78s 129ms/step - loss: 0.0249 - accuracy: 0.9891 - val_loss: 1.1241 - val_accuracy: 0.8242\n",
      "Epoch 123/126\n",
      "600/600 [==============================] - 77s 129ms/step - loss: 0.0211 - accuracy: 0.9897 - val_loss: 1.3797 - val_accuracy: 0.8235\n",
      "Epoch 124/126\n",
      "600/600 [==============================] - 76s 126ms/step - loss: 0.0186 - accuracy: 0.9909 - val_loss: 1.4842 - val_accuracy: 0.8238\n",
      "Epoch 125/126\n",
      "600/600 [==============================] - 78s 129ms/step - loss: 0.0197 - accuracy: 0.9905 - val_loss: 1.3532 - val_accuracy: 0.8246\n",
      "Epoch 126/126\n",
      "600/600 [==============================] - 78s 130ms/step - loss: 0.0197 - accuracy: 0.9907 - val_loss: 1.3988 - val_accuracy: 0.8239\n"
     ]
    }
   ],
   "source": [
    "history=model.fit(x_train,y_train,batch_size=128, epochs=126, verbose=1, validation_split=0.2)"
   ]
  },
  {
   "cell_type": "markdown",
   "id": "baca81ed",
   "metadata": {},
   "source": [
    "### Model Testing"
   ]
  },
  {
   "cell_type": "code",
   "execution_count": 44,
   "id": "0439a565",
   "metadata": {
    "ExecuteTime": {
     "end_time": "2023-08-05T17:45:15.917883500Z",
     "start_time": "2023-08-05T17:45:04.295634100Z"
    }
   },
   "outputs": [
    {
     "name": "stdout",
     "output_type": "stream",
     "text": [
      "750/750 [==============================] - 12s 15ms/step - loss: 1.3646 - accuracy: 0.8273\n"
     ]
    }
   ],
   "source": [
    "score = model.evaluate(x_test, y_test, verbose=1)"
   ]
  },
  {
   "cell_type": "code",
   "execution_count": 45,
   "id": "0ea76709",
   "metadata": {
    "ExecuteTime": {
     "end_time": "2023-08-05T17:45:15.931795800Z",
     "start_time": "2023-08-05T17:45:15.917883500Z"
    }
   },
   "outputs": [
    {
     "name": "stdout",
     "output_type": "stream",
     "text": [
      "Test Score: 1.3645949363708496\n",
      "Test Accuracy: 0.8273333311080933\n"
     ]
    }
   ],
   "source": [
    "# Model Performance\n",
    "\n",
    "print(\"Test Score:\", score[0])\n",
    "print(\"Test Accuracy:\", score[1])"
   ]
  },
  {
   "cell_type": "code",
   "execution_count": 46,
   "id": "5d918f10",
   "metadata": {
    "ExecuteTime": {
     "end_time": "2023-08-05T17:45:16.347529800Z",
     "start_time": "2023-08-05T17:45:15.931795800Z"
    }
   },
   "outputs": [
    {
     "data": {
      "text/plain": "<Figure size 640x480 with 1 Axes>",
      "image/png": "[encoded data removed]"
     },
     "metadata": {},
     "output_type": "display_data"
    },
    {
     "data": {
      "text/plain": "<Figure size 640x480 with 1 Axes>",
      "image/png": "[encoded data removed]"
     },
     "metadata": {},
     "output_type": "display_data"
    }
   ],
   "source": [
    "plt.plot(history.history['accuracy'])\n",
    "plt.plot(history.history['val_accuracy'])\n",
    "\n",
    "plt.title('model accuracy')\n",
    "plt.ylabel('accuracy')\n",
    "plt.xlabel('epoch')\n",
    "plt.legend(['train','test'], loc='upper left')\n",
    "plt.show()\n",
    "\n",
    "plt.plot(history.history['loss'])\n",
    "plt.plot(history.history['val_loss'])\n",
    "\n",
    "plt.title('model loss')\n",
    "plt.ylabel('loss')\n",
    "plt.xlabel('epoch')\n",
    "plt.legend(['train','test'], loc='upper left')\n",
    "plt.show()"
   ]
  },
  {
   "cell_type": "markdown",
   "id": "bd131363",
   "metadata": {},
   "source": [
    "### Testing on unseen data"
   ]
  },
  {
   "cell_type": "code",
   "execution_count": 47,
   "id": "02fbe664",
   "metadata": {
    "ExecuteTime": {
     "end_time": "2023-08-05T17:45:21.678059800Z",
     "start_time": "2023-08-05T17:45:16.355591600Z"
    }
   },
   "outputs": [],
   "source": [
    "unseen=pd.concat([idata.drop(idata[idata['review_score']!=1].index,inplace = False).tail(2),\n",
    "                 idata.drop(idata[idata['review_score']!=-1].index,inplace = False).tail(3)])"
   ]
  },
  {
   "cell_type": "code",
   "execution_count": 48,
   "id": "339b9399",
   "metadata": {
    "ExecuteTime": {
     "end_time": "2023-08-05T17:45:21.694554700Z",
     "start_time": "2023-08-05T17:45:21.688942100Z"
    }
   },
   "outputs": [
    {
     "data": {
      "text/plain": "         app_id        app_name  \\\n6416972   99910  Puzzle Pirates   \n6416973   99910  Puzzle Pirates   \n6417103   99910  Puzzle Pirates   \n6417104   99910  Puzzle Pirates   \n6417105   99910  Puzzle Pirates   \n\n                                               review_text  review_score  \\\n6416972  I have been playing this game for over 3 yrs n...             1   \n6416973  Have so many good memories with this game, it'...             1   \n6417103  This game was aright, though a bit annoying. W...            -1   \n6417104  I had a nice review to recommend this game, bu...            -1   \n6417105  The puzzles in this game are fun, but you have...            -1   \n\n         review_votes  \n6416972             0  \n6416973             0  \n6417103             0  \n6417104             0  \n6417105             0  ",
      "text/html": "<div>\n<style scoped>\n    .dataframe tbody tr th:only-of-type {\n        vertical-align: middle;\n    }\n\n    .dataframe tbody tr th {\n        vertical-align: top;\n    }\n\n    .dataframe thead th {\n        text-align: right;\n    }\n</style>\n<table border=\"1\" class=\"dataframe\">\n  <thead>\n    <tr style=\"text-align: right;\">\n      <th></th>\n      <th>app_id</th>\n      <th>app_name</th>\n      <th>review_text</th>\n      <th>review_score</th>\n      <th>review_votes</th>\n    </tr>\n  </thead>\n  <tbody>\n    <tr>\n      <th>6416972</th>\n      <td>99910</td>\n      <td>Puzzle Pirates</td>\n      <td>I have been playing this game for over 3 yrs n...</td>\n      <td>1</td>\n      <td>0</td>\n    </tr>\n    <tr>\n      <th>6416973</th>\n      <td>99910</td>\n      <td>Puzzle Pirates</td>\n      <td>Have so many good memories with this game, it'...</td>\n      <td>1</td>\n      <td>0</td>\n    </tr>\n    <tr>\n      <th>6417103</th>\n      <td>99910</td>\n      <td>Puzzle Pirates</td>\n      <td>This game was aright, though a bit annoying. W...</td>\n      <td>-1</td>\n      <td>0</td>\n    </tr>\n    <tr>\n      <th>6417104</th>\n      <td>99910</td>\n      <td>Puzzle Pirates</td>\n      <td>I had a nice review to recommend this game, bu...</td>\n      <td>-1</td>\n      <td>0</td>\n    </tr>\n    <tr>\n      <th>6417105</th>\n      <td>99910</td>\n      <td>Puzzle Pirates</td>\n      <td>The puzzles in this game are fun, but you have...</td>\n      <td>-1</td>\n      <td>0</td>\n    </tr>\n  </tbody>\n</table>\n</div>"
     },
     "execution_count": 48,
     "metadata": {},
     "output_type": "execute_result"
    }
   ],
   "source": [
    "unseen"
   ]
  },
  {
   "cell_type": "code",
   "execution_count": 49,
   "id": "3ac760e3",
   "metadata": {
    "ExecuteTime": {
     "end_time": "2023-08-05T17:45:22.582431500Z",
     "start_time": "2023-08-05T17:45:21.694554700Z"
    }
   },
   "outputs": [
    {
     "name": "stdout",
     "output_type": "stream",
     "text": [
      "1/1 [==============================] - 1s 629ms/step\n"
     ]
    }
   ],
   "source": [
    "unseen_reviews = unseen['review_text']\n",
    "\n",
    "unseen_processed = []\n",
    "for review in unseen_reviews:\n",
    "  unseen_processed.append(preprocess_text(review))\n",
    "# Tokenising instance with earlier trained tokeniser\n",
    "unseen_tokenized = tokenizer.texts_to_sequences(unseen_processed)\n",
    "\n",
    "# Pooling instance to have maxlength of 100 tokens\n",
    "unseen_padded = keras.preprocessing.sequence.pad_sequences(unseen_tokenized, padding='post', maxlen=maxlen)\n",
    "unseen_sentiments = model.predict(unseen_padded)"
   ]
  },
  {
   "cell_type": "code",
   "execution_count": 50,
   "id": "0be74760",
   "metadata": {
    "ExecuteTime": {
     "end_time": "2023-08-05T17:45:22.582431500Z",
     "start_time": "2023-08-05T17:45:22.471053Z"
    }
   },
   "outputs": [
    {
     "data": {
      "text/plain": "array([[9.9999577e-01],\n       [9.9998254e-01],\n       [1.9993686e-05],\n       [6.1963988e-06],\n       [3.5280427e-06]], dtype=float32)"
     },
     "execution_count": 50,
     "metadata": {},
     "output_type": "execute_result"
    }
   ],
   "source": [
    "unseen_sentiments"
   ]
  },
  {
   "cell_type": "code",
   "execution_count": 51,
   "id": "edfa5d1f",
   "metadata": {
    "scrolled": true,
    "ExecuteTime": {
     "end_time": "2023-08-05T17:45:22.582431500Z",
     "start_time": "2023-08-05T17:45:22.471053Z"
    }
   },
   "outputs": [
    {
     "data": {
      "text/plain": "         app_id        app_name  \\\n6416972   99910  Puzzle Pirates   \n6416973   99910  Puzzle Pirates   \n6417103   99910  Puzzle Pirates   \n6417104   99910  Puzzle Pirates   \n6417105   99910  Puzzle Pirates   \n\n                                               review_text  review_score  \\\n6416972  I have been playing this game for over 3 yrs n...             1   \n6416973  Have so many good memories with this game, it'...             1   \n6417103  This game was aright, though a bit annoying. W...            -1   \n6417104  I had a nice review to recommend this game, bu...            -1   \n6417105  The puzzles in this game are fun, but you have...            -1   \n\n         review_votes  Predicted Sentiments  \n6416972             0                   1.0  \n6416973             0                   1.0  \n6417103             0                   0.0  \n6417104             0                   0.0  \n6417105             0                   0.0  ",
      "text/html": "<div>\n<style scoped>\n    .dataframe tbody tr th:only-of-type {\n        vertical-align: middle;\n    }\n\n    .dataframe tbody tr th {\n        vertical-align: top;\n    }\n\n    .dataframe thead th {\n        text-align: right;\n    }\n</style>\n<table border=\"1\" class=\"dataframe\">\n  <thead>\n    <tr style=\"text-align: right;\">\n      <th></th>\n      <th>app_id</th>\n      <th>app_name</th>\n      <th>review_text</th>\n      <th>review_score</th>\n      <th>review_votes</th>\n      <th>Predicted Sentiments</th>\n    </tr>\n  </thead>\n  <tbody>\n    <tr>\n      <th>6416972</th>\n      <td>99910</td>\n      <td>Puzzle Pirates</td>\n      <td>I have been playing this game for over 3 yrs n...</td>\n      <td>1</td>\n      <td>0</td>\n      <td>1.0</td>\n    </tr>\n    <tr>\n      <th>6416973</th>\n      <td>99910</td>\n      <td>Puzzle Pirates</td>\n      <td>Have so many good memories with this game, it'...</td>\n      <td>1</td>\n      <td>0</td>\n      <td>1.0</td>\n    </tr>\n    <tr>\n      <th>6417103</th>\n      <td>99910</td>\n      <td>Puzzle Pirates</td>\n      <td>This game was aright, though a bit annoying. W...</td>\n      <td>-1</td>\n      <td>0</td>\n      <td>0.0</td>\n    </tr>\n    <tr>\n      <th>6417104</th>\n      <td>99910</td>\n      <td>Puzzle Pirates</td>\n      <td>I had a nice review to recommend this game, bu...</td>\n      <td>-1</td>\n      <td>0</td>\n      <td>0.0</td>\n    </tr>\n    <tr>\n      <th>6417105</th>\n      <td>99910</td>\n      <td>Puzzle Pirates</td>\n      <td>The puzzles in this game are fun, but you have...</td>\n      <td>-1</td>\n      <td>0</td>\n      <td>0.0</td>\n    </tr>\n  </tbody>\n</table>\n</div>"
     },
     "execution_count": 51,
     "metadata": {},
     "output_type": "execute_result"
    }
   ],
   "source": [
    "unseen['Predicted Sentiments'] = np.round(unseen_sentiments*10,2)/10\n",
    "unseen.head()"
   ]
  },
  {
   "cell_type": "code",
   "execution_count": 52,
   "id": "6271179b",
   "metadata": {
    "ExecuteTime": {
     "end_time": "2023-08-05T17:45:22.582431500Z",
     "start_time": "2023-08-05T17:45:22.471053Z"
    }
   },
   "outputs": [
    {
     "data": {
      "text/plain": "         app_name                                        review_text  \\\n0  Puzzle Pirates  I have been playing this game for over 3 yrs n...   \n1  Puzzle Pirates  Have so many good memories with this game, it'...   \n2  Puzzle Pirates  This game was aright, though a bit annoying. W...   \n3  Puzzle Pirates  I had a nice review to recommend this game, bu...   \n4  Puzzle Pirates  The puzzles in this game are fun, but you have...   \n\n   review_score  Predicted Sentiments  \n0             1                   1.0  \n1             1                   1.0  \n2             0                   0.0  \n3             0                   0.0  \n4             0                   0.0  ",
      "text/html": "<div>\n<style scoped>\n    .dataframe tbody tr th:only-of-type {\n        vertical-align: middle;\n    }\n\n    .dataframe tbody tr th {\n        vertical-align: top;\n    }\n\n    .dataframe thead th {\n        text-align: right;\n    }\n</style>\n<table border=\"1\" class=\"dataframe\">\n  <thead>\n    <tr style=\"text-align: right;\">\n      <th></th>\n      <th>app_name</th>\n      <th>review_text</th>\n      <th>review_score</th>\n      <th>Predicted Sentiments</th>\n    </tr>\n  </thead>\n  <tbody>\n    <tr>\n      <th>0</th>\n      <td>Puzzle Pirates</td>\n      <td>I have been playing this game for over 3 yrs n...</td>\n      <td>1</td>\n      <td>1.0</td>\n    </tr>\n    <tr>\n      <th>1</th>\n      <td>Puzzle Pirates</td>\n      <td>Have so many good memories with this game, it'...</td>\n      <td>1</td>\n      <td>1.0</td>\n    </tr>\n    <tr>\n      <th>2</th>\n      <td>Puzzle Pirates</td>\n      <td>This game was aright, though a bit annoying. W...</td>\n      <td>0</td>\n      <td>0.0</td>\n    </tr>\n    <tr>\n      <th>3</th>\n      <td>Puzzle Pirates</td>\n      <td>I had a nice review to recommend this game, bu...</td>\n      <td>0</td>\n      <td>0.0</td>\n    </tr>\n    <tr>\n      <th>4</th>\n      <td>Puzzle Pirates</td>\n      <td>The puzzles in this game are fun, but you have...</td>\n      <td>0</td>\n      <td>0.0</td>\n    </tr>\n  </tbody>\n</table>\n</div>"
     },
     "execution_count": 52,
     "metadata": {},
     "output_type": "execute_result"
    }
   ],
   "source": [
    "unseen = unseen.reset_index()\n",
    "unseen = unseen.drop(['app_id','review_votes','index'],axis=1)\n",
    "unseen['review_score'] = unseen['review_score'].map({-1:0,1:1})\n",
    "unseen"
   ]
  },
  {
   "cell_type": "code",
   "execution_count": 56,
   "id": "d67fcf6e",
   "metadata": {
    "ExecuteTime": {
     "end_time": "2023-08-05T20:09:17.183565600Z",
     "start_time": "2023-08-05T20:09:17.069815400Z"
    }
   },
   "outputs": [],
   "source": [
    "model.save(f\"Models/c1_lstm_model_acc_highaccr{round(score[1], 3)}.keras\", save_format='keras')"
   ]
  },
  {
   "cell_type": "code",
   "execution_count": 53,
   "id": "4fcbe044",
   "metadata": {
    "ExecuteTime": {
     "end_time": "2023-08-05T17:45:22.582431500Z",
     "start_time": "2023-08-05T17:45:22.471053Z"
    }
   },
   "outputs": [],
   "source": []
  }
 ],
 "metadata": {
  "kernelspec": {
   "display_name": "Python 3 (ipykernel)",
   "language": "python",
   "name": "python3"
  },
  "language_info": {
   "codemirror_mode": {
    "name": "ipython",
    "version": 3
   },
   "file_extension": ".py",
   "mimetype": "text/x-python",
   "name": "python",
   "nbconvert_exporter": "python",
   "pygments_lexer": "ipython3",
   "version": "3.10.9"
  }
 },
 "nbformat": 4,
 "nbformat_minor": 5
}
